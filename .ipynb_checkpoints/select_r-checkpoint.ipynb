{
 "cells": [
  {
   "cell_type": "code",
   "execution_count": 1,
   "id": "814b334e",
   "metadata": {},
   "outputs": [],
   "source": [
    "from pyqpanda import *\n",
    "import numpy as np"
   ]
  },
  {
   "cell_type": "markdown",
   "id": "144c67d8",
   "metadata": {},
   "source": [
    "## Init Quantum Environment"
   ]
  },
  {
   "cell_type": "code",
   "execution_count": 2,
   "id": "a4420e15",
   "metadata": {},
   "outputs": [],
   "source": [
    "class InitQMachine:\n",
    "    def __init__(self, qubitsCount, cbitsCount, machineType = QMachineType.CPU):\n",
    "        self.machine = init_quantum_machine(machineType)\n",
    "        \n",
    "        self.qubits = self.machine.qAlloc_many(qubitsCount)\n",
    "        self.cbits = self.machine.cAlloc_many(cbitsCount)\n",
    "        \n",
    "        print(f'Init Quantum Machine with qubits:[{qubitsCount}] / cbits:[{cbitsCount}] Successfully')\n",
    "    \n",
    "    def __del__(self):\n",
    "        destroy_quantum_machine(self.machine)"
   ]
  },
  {
   "cell_type": "code",
   "execution_count": 3,
   "id": "4a6fee49",
   "metadata": {},
   "outputs": [
    {
     "name": "stdout",
     "output_type": "stream",
     "text": [
      "Init Quantum Machine with qubits:[4] / cbits:[4] Successfully\n"
     ]
    }
   ],
   "source": [
    "ctx = InitQMachine(4, 4)\n",
    "\n",
    "machine = ctx.machine\n",
    "qubits = ctx.qubits\n",
    "cbits = ctx.cbits"
   ]
  },
  {
   "cell_type": "markdown",
   "id": "1440b9a3",
   "metadata": {},
   "source": [
    "# 0. Tool Functions"
   ]
  },
  {
   "cell_type": "code",
   "execution_count": 4,
   "id": "31aa0408",
   "metadata": {},
   "outputs": [],
   "source": [
    "Dag = lambda matrix: matrix.conj().T"
   ]
  },
  {
   "cell_type": "code",
   "execution_count": 5,
   "id": "6c6a5574",
   "metadata": {},
   "outputs": [],
   "source": [
    "normalize = lambda v: v / np.linalg.norm(v)"
   ]
  },
  {
   "cell_type": "code",
   "execution_count": 6,
   "id": "87a3febc",
   "metadata": {},
   "outputs": [],
   "source": [
    "def is_hermitian(matrix):\n",
    "    return np.allclose(matrix, Dag(matrix))"
   ]
  },
  {
   "cell_type": "code",
   "execution_count": 7,
   "id": "1ba9181c",
   "metadata": {},
   "outputs": [],
   "source": [
    "def ed(m, n):\n",
    "     return np.sqrt(np.sum((m - n) ** 2))"
   ]
  },
  {
   "cell_type": "markdown",
   "id": "7b17c7db",
   "metadata": {},
   "source": [
    "# 1. Solve using numpy"
   ]
  },
  {
   "cell_type": "markdown",
   "id": "b3b505ab",
   "metadata": {},
   "source": [
    "## 1.0 solve original problem"
   ]
  },
  {
   "cell_type": "code",
   "execution_count": 8,
   "id": "b89db3bf",
   "metadata": {},
   "outputs": [],
   "source": [
    "A = np.array([\n",
    "    [1, 1],\n",
    "    [2 ** 0.5 / 2, -(2 ** 0.5) / 2]\n",
    "])\n",
    "\n",
    "b = np.array([\n",
    "    [0.5], [-(2 ** 0.5) / 2]\n",
    "])"
   ]
  },
  {
   "cell_type": "code",
   "execution_count": 9,
   "id": "17badd55",
   "metadata": {},
   "outputs": [
    {
     "data": {
      "text/plain": [
       "array([[-0.25],\n",
       "       [ 0.75]])"
      ]
     },
     "execution_count": 9,
     "metadata": {},
     "output_type": "execute_result"
    }
   ],
   "source": [
    "# solve: Ax = b\n",
    "x = np.linalg.solve(A, b)\n",
    "x"
   ]
  },
  {
   "cell_type": "markdown",
   "id": "1c314ecd",
   "metadata": {},
   "source": [
    "## 1.1 test A†Ax = A†b"
   ]
  },
  {
   "cell_type": "code",
   "execution_count": 10,
   "id": "b63748ac",
   "metadata": {},
   "outputs": [
    {
     "data": {
      "text/plain": [
       "array([[ 1.        ,  0.70710678],\n",
       "       [ 1.        , -0.70710678]])"
      ]
     },
     "execution_count": 10,
     "metadata": {},
     "output_type": "execute_result"
    }
   ],
   "source": [
    "Dag(A)"
   ]
  },
  {
   "cell_type": "code",
   "execution_count": 11,
   "id": "62b8296a",
   "metadata": {},
   "outputs": [],
   "source": [
    "A_ = Dag(A) @ A # make A hermitian\n",
    "b_ = Dag(A) @ b"
   ]
  },
  {
   "cell_type": "code",
   "execution_count": 12,
   "id": "e65edf2c",
   "metadata": {},
   "outputs": [
    {
     "data": {
      "text/plain": [
       "array([[-0.25],\n",
       "       [ 0.75]])"
      ]
     },
     "execution_count": 12,
     "metadata": {},
     "output_type": "execute_result"
    }
   ],
   "source": [
    "x = np.linalg.solve(A_, b_)\n",
    "x"
   ]
  },
  {
   "cell_type": "markdown",
   "id": "de5e76d7",
   "metadata": {},
   "source": [
    "## 1.2 eigenvalue of A"
   ]
  },
  {
   "cell_type": "code",
   "execution_count": 13,
   "id": "9f31bed1",
   "metadata": {},
   "outputs": [
    {
     "data": {
      "text/plain": [
       "array([2., 1.])"
      ]
     },
     "execution_count": 13,
     "metadata": {},
     "output_type": "execute_result"
    }
   ],
   "source": [
    "eigenvalue, _ = np.linalg.eig(A_)\n",
    "eigenvalue"
   ]
  },
  {
   "cell_type": "markdown",
   "id": "8700682d",
   "metadata": {},
   "source": [
    "# 2. HHL"
   ]
  },
  {
   "cell_type": "markdown",
   "id": "f74258be",
   "metadata": {},
   "source": [
    "## 2.1 make A hermitian"
   ]
  },
  {
   "cell_type": "code",
   "execution_count": 14,
   "id": "8f95640a",
   "metadata": {},
   "outputs": [],
   "source": [
    "A_ = Dag(A) @ A # make A hermitian"
   ]
  },
  {
   "cell_type": "code",
   "execution_count": 15,
   "id": "62c5d4ce",
   "metadata": {},
   "outputs": [
    {
     "name": "stdout",
     "output_type": "stream",
     "text": [
      "False\n",
      "True\n"
     ]
    }
   ],
   "source": [
    "# test is_hermitian\n",
    "print(is_hermitian(A)) # false\n",
    "print(is_hermitian(A_)) # true"
   ]
  },
  {
   "cell_type": "markdown",
   "id": "f244bbee",
   "metadata": {},
   "source": [
    "## 2.2 HHL algorithm subroutines"
   ]
  },
  {
   "cell_type": "markdown",
   "id": "1f8b261b",
   "metadata": {},
   "source": [
    "### 2.2.1 encode b"
   ]
  },
  {
   "cell_type": "code",
   "execution_count": 16,
   "id": "158724f9",
   "metadata": {},
   "outputs": [
    {
     "data": {
      "text/plain": [
       "[0j, (1+0j), (1+0j), 0j]"
      ]
     },
     "execution_count": 16,
     "metadata": {},
     "output_type": "execute_result"
    }
   ],
   "source": [
    "QOperator(X(qubits[0])).get_matrix()"
   ]
  },
  {
   "cell_type": "code",
   "execution_count": 17,
   "id": "2b3123b4",
   "metadata": {},
   "outputs": [],
   "source": [
    "def encode(b):\n",
    "    circuit = create_empty_circuit()\n",
    "#     circuit << amplitude_encode(qubits[3], b)\n",
    "    circuit << X(qubits[3])\n",
    "    \n",
    "    return circuit"
   ]
  },
  {
   "cell_type": "code",
   "execution_count": 18,
   "id": "30dea6f4",
   "metadata": {},
   "outputs": [],
   "source": [
    "# https://arxiv.org/pdf/1110.2232.pdf"
   ]
  },
  {
   "cell_type": "markdown",
   "id": "b8ea6301",
   "metadata": {},
   "source": [
    "### 2.2.2 phase estimation"
   ]
  },
  {
   "cell_type": "code",
   "execution_count": 19,
   "id": "e9d51043",
   "metadata": {},
   "outputs": [],
   "source": [
    "def phase_estimation(A):\n",
    "    circuit = create_empty_circuit()\n",
    "    \n",
    "    circuit << H(qubits[1]) << H(qubits[2]) << BARRIER(qubits[1:3])\n",
    "    \n",
    "#     circuit << QOracle(qubits[3], expMat(1j, A, np.pi / 2)).control(qubits[2]) # C-U^1\n",
    "#     circuit << QOracle(qubits[3], expMat(1j, A, np.pi)).control(qubits[1]) # C-U^2\n",
    "    circuit << CU(-np.pi / 4, -3 * np.pi / 2, -3 * np.pi / 2, 3 * np.pi / 2, qubits[2], qubits[3])\n",
    "    circuit << CU(-3 * np.pi/2, -3 * np.pi, -3 * np.pi, -2 * np.pi, qubits[1], qubits[3])\n",
    "    circuit << BARRIER(qubits[1:3])\n",
    "    \n",
    "    # inverse QFT\n",
    "    circuit << SWAP(qubits[1], qubits[2])\n",
    "    circuit << H(qubits[2])\n",
    "    circuit << S(qubits[2]).dagger().control(qubits[1])\n",
    "    circuit << H(qubits[1])\n",
    "    circuit << SWAP(qubits[1], qubits[2])\n",
    "\n",
    "    return circuit"
   ]
  },
  {
   "cell_type": "markdown",
   "id": "a336901a",
   "metadata": {},
   "source": [
    "### 2.2.4 controlled rotations"
   ]
  },
  {
   "cell_type": "code",
   "execution_count": 20,
   "id": "84ae536d",
   "metadata": {},
   "outputs": [],
   "source": [
    "def rotation(r):\n",
    "    circuit = create_empty_circuit()\n",
    "    \n",
    "    circuit << RY(qubits[0], 2*np.pi/(2**r)).control(qubits[1])\n",
    "    circuit << RY(qubits[0], np.pi/(2**r)).control(qubits[2])\n",
    "    \n",
    "    return circuit"
   ]
  },
  {
   "cell_type": "markdown",
   "id": "8715c9d2",
   "metadata": {},
   "source": [
    "### 2.2.5 uncompute"
   ]
  },
  {
   "cell_type": "code",
   "execution_count": 21,
   "id": "43b72335",
   "metadata": {},
   "outputs": [],
   "source": [
    "def uncompute(A):\n",
    "    circuit = create_empty_circuit()\n",
    "    \n",
    "    # QFT\n",
    "    circuit << SWAP(qubits[1], qubits[2])\n",
    "    circuit << H(qubits[1])\n",
    "    circuit << S(qubits[2]).control(qubits[1])\n",
    "    circuit << H(qubits[2])\n",
    "    circuit << SWAP(qubits[1], qubits[2])\n",
    "    circuit << BARRIER(qubits[1:3])\n",
    "\n",
    "#     circuit << QOracle(qubits[3], expMat(-1j, A, np.pi)).control(qubits[1])\n",
    "#     circuit << QOracle(qubits[3], expMat(-1j, A, np.pi / 2)).control(qubits[2])\n",
    "    circuit << CU(-3 * np.pi/2, -3 * np.pi, -3 * np.pi, -2 * np.pi, qubits[1], qubits[3])\n",
    "    circuit << CU(np.pi/4, -3*np.pi/2, -np.pi/2, -np.pi/2, qubits[2], qubits[3]) << BARRIER(qubits[1:3])\n",
    "    \n",
    "    circuit << H(qubits[1]) << H(qubits[2])\n",
    "    \n",
    "    return circuit"
   ]
  },
  {
   "cell_type": "markdown",
   "id": "08711eb1",
   "metadata": {},
   "source": [
    "## 2.3 full HHL algorithm "
   ]
  },
  {
   "cell_type": "code",
   "execution_count": 22,
   "id": "c6cff82b",
   "metadata": {},
   "outputs": [],
   "source": [
    "def HHL(A, b, r, flag=False):\n",
    "    prog = create_empty_qprog()\n",
    "    \n",
    "    # Step 0. check input\n",
    "    if not is_hermitian(A):\n",
    "        b = (Dag(A) @ b).round(4)\n",
    "        A = (Dag(A) @ A).round(4) # make A hermitian\n",
    "    \n",
    "    normed_b = (b / np.linalg.norm(b)).round(4)\n",
    "    \n",
    "    # Step 1. state preparation\n",
    "    prog << encode(normed_b)\n",
    "    \n",
    "    # Step 2. phase estimation\n",
    "    prog << phase_estimation(A)\n",
    "    \n",
    "    # Step 3. rotation\n",
    "    prog << rotation(r)\n",
    "    \n",
    "    # Step 4. uncompute\n",
    "    prog << uncompute(A)\n",
    "    \n",
    "    # Step 5. measure ancilla qubit\n",
    "    prog << Measure(qubits[0], cbits[0])\n",
    "    if flag:\n",
    "        results = [0, 0]\n",
    "        for i in range(10000):\n",
    "            result = prob_run_list(prog, qubits[0], -1)\n",
    "            results[0] += result[0]\n",
    "            results[1] += result[1]\n",
    "\n",
    "        results[0] /= 10000\n",
    "        results[1] /= 10000\n",
    "        \n",
    "        return results\n",
    "    \n",
    "    result = directly_run(prog)\n",
    "    \n",
    "    if not result['c0']:\n",
    "        return HHL(A, b, r)\n",
    "    \n",
    "    # Step 6. get results\n",
    "    prog << Measure(qubits[3], cbits[3])\n",
    "    \n",
    "    qstate = get_qstate()\n",
    "    normed_x = np.real(np.array([qstate[1], qstate[9]])) # 0001 1001\n",
    "        \n",
    "    # Step 7. recover x\n",
    "    N = len(normed_b)\n",
    "    ratio = 0.0\n",
    "    for i in range(N):\n",
    "        if not abs(normed_b[i]) < 1e-8:\n",
    "            ratio = normed_b[i][0] / np.sum([ normed_x[j] * A[i][j] for j in range(N) ])\n",
    "            break\n",
    "    \n",
    "    # normed_x = x / ||x|| => x = normed_x * ||x||\n",
    "    x_ = (normed_x * ratio)\n",
    "    distance = ed(x_, x.flatten())\n",
    "    \n",
    "    return distance, x_"
   ]
  },
  {
   "cell_type": "markdown",
   "id": "ae0abfae",
   "metadata": {},
   "source": [
    "## 2.4 select proper r for rotation"
   ]
  },
  {
   "cell_type": "code",
   "execution_count": 23,
   "id": "b4a014e5",
   "metadata": {},
   "outputs": [],
   "source": [
    "r = [1, 2, 3, 4, 5, 6, 7, 8]"
   ]
  },
  {
   "cell_type": "code",
   "execution_count": 24,
   "id": "26a25f1e",
   "metadata": {},
   "outputs": [],
   "source": [
    "p = [ HHL(A, b, i, True)[1] for i in r]"
   ]
  },
  {
   "cell_type": "code",
   "execution_count": 25,
   "id": "ed01e809",
   "metadata": {},
   "outputs": [],
   "source": [
    "distances = [ HHL(A, b, i)[0] for i in r ]"
   ]
  },
  {
   "cell_type": "code",
   "execution_count": 26,
   "id": "141826ca",
   "metadata": {},
   "outputs": [],
   "source": [
    "import matplotlib.pyplot as plt\n",
    "%matplotlib inline"
   ]
  },
  {
   "cell_type": "code",
   "execution_count": 27,
   "id": "21c1b5cd",
   "metadata": {},
   "outputs": [
    {
     "data": {
      "image/png": "[encoded data removed]",
      "text/plain": [
       "<Figure size 1500x400 with 2 Axes>"
      ]
     },
     "metadata": {},
     "output_type": "display_data"
    }
   ],
   "source": [
    "plt.figure(figsize=(15, 4))\n",
    "plt.subplot(1,2,1)\n",
    "plt.scatter(r, p)\n",
    "plt.xlabel(\"r\", fontsize=15)\n",
    "plt.ylabel(\"Probability\", fontsize=15)\n",
    "\n",
    "plt.subplot(1,2,2)\n",
    "plt.scatter(r, distances, color=\"#FF6600\")\n",
    "plt.xlabel(\"r\", fontsize=15)\n",
    "plt.ylabel(\"Distance\", fontsize=15)\n",
    "\n",
    "plt.show()"
   ]
  },
  {
   "cell_type": "code",
   "execution_count": null,
   "id": "57898331",
   "metadata": {},
   "outputs": [],
   "source": []
  }
 ],
 "metadata": {
  "kernelspec": {
   "display_name": "Python 3 (ipykernel)",
   "language": "python",
   "name": "python3"
  },
  "language_info": {
   "codemirror_mode": {
    "name": "ipython",
    "version": 3
   },
   "file_extension": ".py",
   "mimetype": "text/x-python",
   "name": "python",
   "nbconvert_exporter": "python",
   "pygments_lexer": "ipython3",
   "version": "3.8.13"
  }
 },
 "nbformat": 4,
 "nbformat_minor": 5
}
