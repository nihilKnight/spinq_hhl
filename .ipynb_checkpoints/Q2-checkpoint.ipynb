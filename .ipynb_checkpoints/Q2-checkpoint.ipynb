{
 "cells": [
  {
   "cell_type": "code",
   "execution_count": 6,
   "id": "814b334e",
   "metadata": {},
   "outputs": [],
   "source": [
    "from pyqpanda import *\n",
    "import numpy as np"
   ]
  },
  {
   "cell_type": "code",
   "execution_count": 7,
   "id": "09dd0502",
   "metadata": {},
   "outputs": [],
   "source": [
    "def draw(prog, filename=''):\n",
    "    dir_path = './images/'\n",
    "    if filename != '':\n",
    "        draw_qprog(prog, 'pic', filename=f'{dir_path}{filename}')"
   ]
  },
  {
   "cell_type": "markdown",
   "id": "144c67d8",
   "metadata": {},
   "source": [
    "## Init Quantum Environment"
   ]
  },
  {
   "cell_type": "code",
   "execution_count": 8,
   "id": "a4420e15",
   "metadata": {},
   "outputs": [],
   "source": [
    "class InitQMachine:\n",
    "    def __init__(self, qubitsCount, cbitsCount, machineType = QMachineType.CPU):\n",
    "        self.machine = init_quantum_machine(machineType)\n",
    "        \n",
    "        self.qubits = self.machine.qAlloc_many(qubitsCount)\n",
    "        self.cbits = self.machine.cAlloc_many(cbitsCount)\n",
    "        \n",
    "        print(f'Init Quantum Machine with qubits:[{qubitsCount}] / cbits:[{cbitsCount}] Successfully')\n",
    "    \n",
    "    def __del__(self):\n",
    "        destroy_quantum_machine(self.machine)"
   ]
  },
  {
   "cell_type": "code",
   "execution_count": 9,
   "id": "4a6fee49",
   "metadata": {},
   "outputs": [
    {
     "name": "stdout",
     "output_type": "stream",
     "text": [
      "Init Quantum Machine with qubits:[4] / cbits:[4] Successfully\n"
     ]
    }
   ],
   "source": [
    "ctx = InitQMachine(4, 4)\n",
    "\n",
    "machine = ctx.machine\n",
    "qubits = ctx.qubits\n",
    "cbits = ctx.cbits"
   ]
  },
  {
   "cell_type": "markdown",
   "id": "7b17c7db",
   "metadata": {},
   "source": [
    "# 0. Solve using numpy"
   ]
  },
  {
   "cell_type": "code",
   "execution_count": 10,
   "id": "b89db3bf",
   "metadata": {},
   "outputs": [],
   "source": [
    "A = np.array([\n",
    "    [1, 1],\n",
    "    [2 ** 0.5 / 2, -(2 ** 0.5) / 2]\n",
    "])\n",
    "b = np.array([\n",
    "    [1/2], [-(2 ** 0.5) / 2]\n",
    "])"
   ]
  },
  {
   "cell_type": "code",
   "execution_count": 11,
   "id": "a079a487",
   "metadata": {},
   "outputs": [],
   "source": [
    "Dag = lambda matrix: matrix.conj().T"
   ]
  },
  {
   "cell_type": "code",
   "execution_count": 515,
   "id": "df0c1ec9",
   "metadata": {},
   "outputs": [
    {
     "data": {
      "text/plain": [
       "array([[ 1.        ,  0.70710678],\n",
       "       [ 1.        , -0.70710678]])"
      ]
     },
     "execution_count": 515,
     "metadata": {},
     "output_type": "execute_result"
    }
   ],
   "source": [
    "Dag(A)"
   ]
  },
  {
   "cell_type": "code",
   "execution_count": 12,
   "id": "62b8296a",
   "metadata": {},
   "outputs": [],
   "source": [
    "A_ = Dag(A) @ A # make A hermitian\n",
    "b_ = Dag(A) @ b"
   ]
  },
  {
   "cell_type": "code",
   "execution_count": 13,
   "id": "bcf7b716",
   "metadata": {},
   "outputs": [
    {
     "data": {
      "text/plain": [
       "array([[-1.11022302e-16],\n",
       "       [ 1.00000000e+00]])"
      ]
     },
     "execution_count": 13,
     "metadata": {},
     "output_type": "execute_result"
    }
   ],
   "source": [
    "normed_b = b_ / np.linalg.norm(b_)\n",
    "normed_b"
   ]
  },
  {
   "cell_type": "code",
   "execution_count": 14,
   "id": "20bcef4b",
   "metadata": {},
   "outputs": [
    {
     "data": {
      "text/plain": [
       "array([[-0.25],\n",
       "       [ 0.75]])"
      ]
     },
     "execution_count": 14,
     "metadata": {},
     "output_type": "execute_result"
    }
   ],
   "source": [
    "x = np.linalg.solve(A_, b_)\n",
    "x"
   ]
  },
  {
   "cell_type": "code",
   "execution_count": 555,
   "id": "2f9c5b53",
   "metadata": {},
   "outputs": [
    {
     "data": {
      "text/plain": [
       "array([2., 1.])"
      ]
     },
     "execution_count": 555,
     "metadata": {},
     "output_type": "execute_result"
    }
   ],
   "source": [
    "eigenvalue, _ = np.linalg.eig(A_)\n",
    "eigenvalue"
   ]
  },
  {
   "cell_type": "code",
   "execution_count": 15,
   "id": "ee5847d6",
   "metadata": {},
   "outputs": [
    {
     "data": {
      "text/plain": [
       "array([[-0.25],\n",
       "       [ 0.75]])"
      ]
     },
     "execution_count": 15,
     "metadata": {},
     "output_type": "execute_result"
    }
   ],
   "source": [
    "np.linalg.solve(A_, normed_b)"
   ]
  },
  {
   "cell_type": "code",
   "execution_count": 558,
   "id": "fdcc8882",
   "metadata": {},
   "outputs": [
    {
     "data": {
      "text/plain": [
       "0.8944271909999159"
      ]
     },
     "execution_count": 558,
     "metadata": {},
     "output_type": "execute_result"
    }
   ],
   "source": [
    "2 * np.pi / np.linalg.norm(A_) / np.pi"
   ]
  },
  {
   "cell_type": "markdown",
   "id": "8700682d",
   "metadata": {},
   "source": [
    "# 1. HHL"
   ]
  },
  {
   "cell_type": "markdown",
   "id": "f74258be",
   "metadata": {},
   "source": [
    "## - 1.1 tool functions"
   ]
  },
  {
   "cell_type": "code",
   "execution_count": 16,
   "id": "1aff174a",
   "metadata": {},
   "outputs": [],
   "source": [
    "Dag = lambda matrix: matrix.conj().T"
   ]
  },
  {
   "cell_type": "code",
   "execution_count": 17,
   "id": "51abeec1",
   "metadata": {},
   "outputs": [],
   "source": [
    "def is_hermitian(matrix):\n",
    "    return np.allclose(matrix, Dag(matrix))"
   ]
  },
  {
   "cell_type": "code",
   "execution_count": 18,
   "id": "62c5d4ce",
   "metadata": {},
   "outputs": [
    {
     "name": "stdout",
     "output_type": "stream",
     "text": [
      "False\n",
      "True\n"
     ]
    }
   ],
   "source": [
    "# test is_hermitian\n",
    "print(is_hermitian(A)) # false\n",
    "print(is_hermitian(A_)) # true"
   ]
  },
  {
   "cell_type": "markdown",
   "id": "f244bbee",
   "metadata": {},
   "source": [
    "## - 1.2 HHL algorithm subroutines"
   ]
  },
  {
   "cell_type": "code",
   "execution_count": 667,
   "id": "dcae0aff",
   "metadata": {},
   "outputs": [
    {
     "data": {
      "text/plain": [
       "[0j, (1+0j), (1+0j), 0j]"
      ]
     },
     "execution_count": 667,
     "metadata": {},
     "output_type": "execute_result"
    }
   ],
   "source": [
    "QOperator(X(qubits[0])).get_matrix()"
   ]
  },
  {
   "cell_type": "code",
   "execution_count": 670,
   "id": "e7caedfe",
   "metadata": {},
   "outputs": [
    {
     "data": {
      "text/plain": [
       "array([[-0.],\n",
       "       [ 1.]])"
      ]
     },
     "execution_count": 670,
     "metadata": {},
     "output_type": "execute_result"
    }
   ],
   "source": [
    "b_.round(4)"
   ]
  },
  {
   "cell_type": "code",
   "execution_count": 519,
   "id": "2b3123b4",
   "metadata": {},
   "outputs": [],
   "source": [
    "def encode(b):\n",
    "    circuit = create_empty_circuit()\n",
    "    circuit << amplitude_encode(qubits[3], b)\n",
    "    \n",
    "    return circuit"
   ]
  },
  {
   "cell_type": "code",
   "execution_count": 521,
   "id": "5f9bb8c0",
   "metadata": {},
   "outputs": [],
   "source": [
    "draw(encode(b_), 'encode')"
   ]
  },
  {
   "cell_type": "code",
   "execution_count": 522,
   "id": "30dea6f4",
   "metadata": {},
   "outputs": [],
   "source": [
    "# https://arxiv.org/pdf/1110.2232.pdf"
   ]
  },
  {
   "cell_type": "code",
   "execution_count": 659,
   "id": "e9d51043",
   "metadata": {},
   "outputs": [],
   "source": [
    "def phase_estimation(A):\n",
    "    circuit = create_empty_circuit()\n",
    "    \n",
    "    circuit << H(qubits[1]) << H(qubits[2]) << BARRIER(qubits[1:3])\n",
    "#     circuit << QOracle(qubits[3], expMat(1j, A, np.pi / 2)).control(qubits[2]) # C-U^1\n",
    "#     circuit << QOracle(qubits[3], expMat(1j, A, np.pi)).control(qubits[1]) # C-U^2\n",
    "    circuit << CU(-np.pi / 4, -3 * np.pi / 2, -3 * np.pi / 2, 3 * np.pi / 2, qubits[2], qubits[3])\n",
    "    circuit << CU(-3 * np.pi/2, -3 * np.pi, -3 * np.pi, -2 * np.pi, qubits[1], qubits[3])\n",
    "    circuit << BARRIER(qubits[1:3])\n",
    "    \n",
    "    # QFT_dagger\n",
    "    circuit << SWAP(qubits[1], qubits[2])\n",
    "    circuit << H(qubits[2])\n",
    "    circuit << S(qubits[2]).dagger().control(qubits[1])\n",
    "    circuit << H(qubits[1])\n",
    "    circuit << SWAP(qubits[1], qubits[2])\n",
    "\n",
    "    return circuit"
   ]
  },
  {
   "cell_type": "code",
   "execution_count": 660,
   "id": "51cb27fc",
   "metadata": {},
   "outputs": [],
   "source": [
    "draw(phase_estimation(A_), 'phase_estimation')"
   ]
  },
  {
   "cell_type": "code",
   "execution_count": 661,
   "id": "84ae536d",
   "metadata": {},
   "outputs": [],
   "source": [
    "def rotation():\n",
    "    circuit = create_empty_circuit()\n",
    "    \n",
    "    circuit << RY(qubits[0], np.pi / 32).control(qubits[2])\n",
    "    circuit << RY(qubits[0], np.pi / 16).control(qubits[1])\n",
    "    \n",
    "    return circuit"
   ]
  },
  {
   "cell_type": "code",
   "execution_count": 662,
   "id": "0f1d94c4",
   "metadata": {},
   "outputs": [],
   "source": [
    "draw(rotation(), 'rotation')"
   ]
  },
  {
   "cell_type": "code",
   "execution_count": 663,
   "id": "43b72335",
   "metadata": {},
   "outputs": [],
   "source": [
    "def uncompute(A):\n",
    "    circuit = create_empty_circuit()\n",
    "    \n",
    "    # QFT\n",
    "    circuit << SWAP(qubits[1], qubits[2])\n",
    "    circuit << H(qubits[1])\n",
    "    circuit << S(qubits[2]).control(qubits[1])\n",
    "    circuit << H(qubits[2])\n",
    "    circuit << SWAP(qubits[1], qubits[2])\n",
    "    circuit << BARRIER(qubits[1:3])\n",
    "\n",
    "#     circuit << QOracle(qubits[3], expMat(-1j, A, np.pi)).control(qubits[1])\n",
    "#     circuit << QOracle(qubits[3], expMat(-1j, A, np.pi / 2)).control(qubits[2])\n",
    "    circuit << CU(-3 * np.pi/2, -3 * np.pi, -3 * np.pi, -2 * np.pi, qubits[1], qubits[3])\n",
    "    circuit << CU(np.pi/4, -3*np.pi/2, -np.pi/2, -np.pi/2, qubits[2], qubits[3]) << BARRIER(qubits[1:3])\n",
    "    circuit << H(qubits[1]) << H(qubits[2])\n",
    "    \n",
    "    return circuit"
   ]
  },
  {
   "cell_type": "code",
   "execution_count": 664,
   "id": "64c9f5f1",
   "metadata": {},
   "outputs": [],
   "source": [
    "draw(uncompute(A_), 'uncompute')"
   ]
  },
  {
   "cell_type": "markdown",
   "id": "08711eb1",
   "metadata": {},
   "source": [
    "## - 1.3 full HHL algorithm "
   ]
  },
  {
   "cell_type": "code",
   "execution_count": 665,
   "id": "c6cff82b",
   "metadata": {},
   "outputs": [],
   "source": [
    "def HHL(A, b):\n",
    "    prog = create_empty_qprog()\n",
    "    \n",
    "    # Step 0. check input\n",
    "    if not is_hermitian(A):\n",
    "        b = (Dag(A) @ b).round(4)\n",
    "        A = (Dag(A) @ A).round(4) # make A hermitian\n",
    "    \n",
    "    normed_b = (b / np.linalg.norm(b)).round(4)\n",
    "    \n",
    "    # Step 1. state preparation\n",
    "    prog << encode(normed_b)\n",
    "    \n",
    "    # Step 2. phase estimation\n",
    "    prog << phase_estimation(A)\n",
    "    \n",
    "    # Step 3. rotation\n",
    "    prog << rotation()\n",
    "    \n",
    "    # Step 4. uncompute\n",
    "    prog << uncompute(A)\n",
    "    \n",
    "    # Step 5. measure ancilla qubit\n",
    "    prog << Measure(qubits[0], cbits[0])\n",
    "    \n",
    "    result = directly_run(prog)\n",
    "    if not result['c0']:\n",
    "#         print('attempting...')\n",
    "        return HHL(A, b)\n",
    "    \n",
    "    # Step 6. get results\n",
    "    qstate = get_qstate()\n",
    "    normed_x = np.real(np.array([qstate[1], qstate[9]])) # 0001 1001\n",
    "    \n",
    "    # Step 7. recover x\n",
    "    N = len(normed_b)\n",
    "    ratio = 0.0\n",
    "    for i in range(N):\n",
    "        if not abs(normed_b[i]) < 1e-8:\n",
    "            ratio = normed_b[i][0] / np.sum([ normed_x[j] * A[i][j] for j in range(N) ])\n",
    "            break\n",
    "    \n",
    "    originir = convert_qprog_to_originir(prog, ctx.machine)\n",
    "    \n",
    "    # normed_x = x / ||x|| => x = normed_x * ||x||\n",
    "    if ratio == 0:\n",
    "        return normed_x, originir\n",
    "    else:\n",
    "        return (normed_x * ratio), originir"
   ]
  },
  {
   "cell_type": "code",
   "execution_count": 666,
   "id": "a854b514",
   "metadata": {
    "scrolled": true
   },
   "outputs": [
    {
     "data": {
      "text/plain": [
       "(array([-0.24954802,  0.74984934]),\n",
       " 'QINIT 4\\nCREG 4\\nRY q[3],(3.1415927)\\nH q[1]\\nH q[2]\\nBARRIER q[1],q[2]\\nCU q[2],q[3],(-0.78539816,-4.712389,-4.712389,4.712389)\\nCU q[1],q[3],(-4.712389,-9.424778,-9.424778,-6.2831853)\\nBARRIER q[1],q[2]\\nSWAP q[1],q[2]\\nH q[2]\\nDAGGER\\nCONTROL q[1]\\nS q[2]\\nENDCONTROL\\nENDDAGGER\\nH q[1]\\nSWAP q[1],q[2]\\nCONTROL q[2]\\nRY q[0],(0.09817477)\\nENDCONTROL\\nCONTROL q[1]\\nRY q[0],(0.19634954)\\nENDCONTROL\\nSWAP q[1],q[2]\\nH q[1]\\nCONTROL q[1]\\nS q[2]\\nENDCONTROL\\nH q[2]\\nSWAP q[1],q[2]\\nBARRIER q[1],q[2]\\nCU q[1],q[3],(-4.712389,-9.424778,-9.424778,-6.2831853)\\nCU q[2],q[3],(0.78539816,-4.712389,-1.5707963,-1.5707963)\\nBARRIER q[1],q[2]\\nH q[1]\\nH q[2]\\nMEASURE q[0],c[0]')"
      ]
     },
     "execution_count": 666,
     "metadata": {},
     "output_type": "execute_result"
    }
   ],
   "source": [
    "HHL(A, b)"
   ]
  },
  {
   "cell_type": "code",
   "execution_count": null,
   "id": "b1dde94d",
   "metadata": {},
   "outputs": [],
   "source": []
  }
 ],
 "metadata": {
  "kernelspec": {
   "display_name": "Python 3 (ipykernel)",
   "language": "python",
   "name": "python3"
  },
  "language_info": {
   "codemirror_mode": {
    "name": "ipython",
    "version": 3
   },
   "file_extension": ".py",
   "mimetype": "text/x-python",
   "name": "python",
   "nbconvert_exporter": "python",
   "pygments_lexer": "ipython3",
   "version": "3.8.13"
  }
 },
 "nbformat": 4,
 "nbformat_minor": 5
}
