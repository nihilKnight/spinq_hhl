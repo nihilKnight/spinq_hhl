{
 "cells": [
  {
   "cell_type": "code",
   "execution_count": 1,
   "id": "814b334e",
   "metadata": {},
   "outputs": [],
   "source": [
    "from pyqpanda import *\n",
    "import numpy as np"
   ]
  },
  {
   "cell_type": "code",
   "execution_count": 2,
   "id": "09dd0502",
   "metadata": {},
   "outputs": [],
   "source": [
    "def draw(prog, filename=''):\n",
    "    dir_path = './images/'\n",
    "    if filename != '':\n",
    "        draw_qprog(prog, 'pic', filename=f'{dir_path}{filename}')"
   ]
  },
  {
   "cell_type": "markdown",
   "id": "144c67d8",
   "metadata": {},
   "source": [
    "## Init Quantum Environment"
   ]
  },
  {
   "cell_type": "code",
   "execution_count": 3,
   "id": "a4420e15",
   "metadata": {},
   "outputs": [],
   "source": [
    "class InitQMachine:\n",
    "    def __init__(self, qubitsCount, cbitsCount, machineType = QMachineType.CPU):\n",
    "        self.machine = init_quantum_machine(machineType)\n",
    "        \n",
    "        self.qubits = self.machine.qAlloc_many(qubitsCount)\n",
    "        self.cbits = self.machine.cAlloc_many(cbitsCount)\n",
    "        \n",
    "        print(f'Init Quantum Machine with qubits:[{qubitsCount}] / cbits:[{cbitsCount}] Successfully')\n",
    "    \n",
    "    def __del__(self):\n",
    "        destroy_quantum_machine(self.machine)"
   ]
  },
  {
   "cell_type": "code",
   "execution_count": 4,
   "id": "4a6fee49",
   "metadata": {},
   "outputs": [
    {
     "name": "stdout",
     "output_type": "stream",
     "text": [
      "Init Quantum Machine with qubits:[4] / cbits:[4] Successfully\n"
     ]
    }
   ],
   "source": [
    "ctx = InitQMachine(4, 4)\n",
    "\n",
    "machine = ctx.machine\n",
    "qubits = ctx.qubits\n",
    "cbits = ctx.cbits"
   ]
  },
  {
   "cell_type": "markdown",
   "id": "7b17c7db",
   "metadata": {},
   "source": [
    "# 0. Solve using numpy"
   ]
  },
  {
   "cell_type": "code",
   "execution_count": 5,
   "id": "b89db3bf",
   "metadata": {},
   "outputs": [],
   "source": [
    "A = np.array([\n",
    "    [1, 1],\n",
    "    [2 ** 0.5 / 2, -(2 ** 0.5) / 2]\n",
    "])\n",
    "b = np.array([\n",
    "    [1/2], [-(2 ** 0.5) / 2]\n",
    "])"
   ]
  },
  {
   "cell_type": "code",
   "execution_count": 6,
   "id": "a079a487",
   "metadata": {},
   "outputs": [],
   "source": [
    "Dag = lambda matrix: matrix.conj().T"
   ]
  },
  {
   "cell_type": "code",
   "execution_count": 7,
   "id": "a25ffdd5",
   "metadata": {},
   "outputs": [
    {
     "data": {
      "text/plain": [
       "array([[ 1.        ,  0.70710678],\n",
       "       [ 1.        , -0.70710678]])"
      ]
     },
     "execution_count": 7,
     "metadata": {},
     "output_type": "execute_result"
    }
   ],
   "source": [
    "Dag(A)"
   ]
  },
  {
   "cell_type": "code",
   "execution_count": 8,
   "id": "62b8296a",
   "metadata": {},
   "outputs": [],
   "source": [
    "A_ = Dag(A) @ A # make A hermitian\n",
    "b_ = Dag(A) @ b"
   ]
  },
  {
   "cell_type": "code",
   "execution_count": 9,
   "id": "bcf7b716",
   "metadata": {},
   "outputs": [
    {
     "data": {
      "text/plain": [
       "array([[-1.11022302e-16],\n",
       "       [ 1.00000000e+00]])"
      ]
     },
     "execution_count": 9,
     "metadata": {},
     "output_type": "execute_result"
    }
   ],
   "source": [
    "normed_b = b_ / np.linalg.norm(b_)\n",
    "normed_b"
   ]
  },
  {
   "cell_type": "code",
   "execution_count": 10,
   "id": "20bcef4b",
   "metadata": {},
   "outputs": [
    {
     "data": {
      "text/plain": [
       "array([[-0.25],\n",
       "       [ 0.75]])"
      ]
     },
     "execution_count": 10,
     "metadata": {},
     "output_type": "execute_result"
    }
   ],
   "source": [
    "x = np.linalg.solve(A_, b_)\n",
    "x"
   ]
  },
  {
   "cell_type": "code",
   "execution_count": 11,
   "id": "4cf13d52",
   "metadata": {},
   "outputs": [
    {
     "data": {
      "text/plain": [
       "array([2., 1.])"
      ]
     },
     "execution_count": 11,
     "metadata": {},
     "output_type": "execute_result"
    }
   ],
   "source": [
    "eigenvalue, _ = np.linalg.eig(A_)\n",
    "eigenvalue"
   ]
  },
  {
   "cell_type": "code",
   "execution_count": 12,
   "id": "ee5847d6",
   "metadata": {},
   "outputs": [
    {
     "data": {
      "text/plain": [
       "array([[-0.25],\n",
       "       [ 0.75]])"
      ]
     },
     "execution_count": 12,
     "metadata": {},
     "output_type": "execute_result"
    }
   ],
   "source": [
    "np.linalg.solve(A_, normed_b)"
   ]
  },
  {
   "cell_type": "code",
   "execution_count": 13,
   "id": "d22cd0e1",
   "metadata": {},
   "outputs": [
    {
     "data": {
      "text/plain": [
       "0.8944271909999159"
      ]
     },
     "execution_count": 13,
     "metadata": {},
     "output_type": "execute_result"
    }
   ],
   "source": [
    "2 * np.pi / np.linalg.norm(A_) / np.pi"
   ]
  },
  {
   "cell_type": "markdown",
   "id": "8700682d",
   "metadata": {},
   "source": [
    "# 1. HHL"
   ]
  },
  {
   "cell_type": "markdown",
   "id": "f74258be",
   "metadata": {},
   "source": [
    "## - 1.1 tool functions"
   ]
  },
  {
   "cell_type": "code",
   "execution_count": 14,
   "id": "1aff174a",
   "metadata": {},
   "outputs": [],
   "source": [
    "Dag = lambda matrix: matrix.conj().T"
   ]
  },
  {
   "cell_type": "code",
   "execution_count": 15,
   "id": "51abeec1",
   "metadata": {},
   "outputs": [],
   "source": [
    "def is_hermitian(matrix):\n",
    "    return np.allclose(matrix, Dag(matrix))"
   ]
  },
  {
   "cell_type": "code",
   "execution_count": 16,
   "id": "62c5d4ce",
   "metadata": {},
   "outputs": [
    {
     "name": "stdout",
     "output_type": "stream",
     "text": [
      "False\n",
      "True\n"
     ]
    }
   ],
   "source": [
    "# test is_hermitian\n",
    "print(is_hermitian(A)) # false\n",
    "print(is_hermitian(A_)) # true"
   ]
  },
  {
   "cell_type": "code",
   "execution_count": 17,
   "id": "edc2b921",
   "metadata": {},
   "outputs": [],
   "source": [
    "def ed(m, n):\n",
    "     return np.sqrt(np.sum((m - n) ** 2))"
   ]
  },
  {
   "cell_type": "markdown",
   "id": "f244bbee",
   "metadata": {},
   "source": [
    "## - 1.2 HHL algorithm subroutines"
   ]
  },
  {
   "cell_type": "code",
   "execution_count": 18,
   "id": "2b3123b4",
   "metadata": {},
   "outputs": [],
   "source": [
    "def encode(b):\n",
    "    circuit = create_empty_circuit()\n",
    "    circuit << amplitude_encode(qubits[3], b)\n",
    "    \n",
    "    return circuit"
   ]
  },
  {
   "cell_type": "code",
   "execution_count": 19,
   "id": "5f9bb8c0",
   "metadata": {},
   "outputs": [],
   "source": [
    "draw(encode(b_), 'encode')"
   ]
  },
  {
   "cell_type": "code",
   "execution_count": 20,
   "id": "30dea6f4",
   "metadata": {},
   "outputs": [],
   "source": [
    "# https://arxiv.org/pdf/1110.2232.pdf"
   ]
  },
  {
   "cell_type": "code",
   "execution_count": 21,
   "id": "4307c2cf",
   "metadata": {},
   "outputs": [
    {
     "data": {
      "text/plain": [
       "array([-1.-0.j,  0.+1.j])"
      ]
     },
     "execution_count": 21,
     "metadata": {},
     "output_type": "execute_result"
    }
   ],
   "source": [
    "m = np.array(QOperator(QOracle(qubits[3], expMat(1j, A_, np.pi/2))).get_matrix())\n",
    "m = m.reshape(2, 2)\n",
    "\n",
    "ev, _ = np.linalg.eig(m)\n",
    "ev.round(4)"
   ]
  },
  {
   "cell_type": "code",
   "execution_count": 22,
   "id": "f4be12c8",
   "metadata": {},
   "outputs": [
    {
     "name": "stdout",
     "output_type": "stream",
     "text": [
      "(-1+0j)\n",
      "1j\n"
     ]
    }
   ],
   "source": [
    "print(np.exp(2 * np.pi * 1j * 0.5).round(4))\n",
    "print(np.exp(2 * np.pi * 1j * 0.25).round(4))"
   ]
  },
  {
   "cell_type": "code",
   "execution_count": 23,
   "id": "e9d51043",
   "metadata": {},
   "outputs": [],
   "source": [
    "def phase_estimation(A):\n",
    "    circuit = create_empty_circuit()\n",
    "    \n",
    "    circuit << H(qubits[1]) << H(qubits[2]) << BARRIER(qubits[1:3])\n",
    "#     t0 = 2 * np.pi\n",
    "#     circuit << QOracle(qubits[3], expMat(1j, A, np.pi / 2)).control(qubits[2]) # C-U^1\n",
    "#     circuit << QOracle(qubits[3], expMat(1j, A, np.pi)).control(qubits[1]) # C-U^2\n",
    "    circuit << CU(-np.pi / 4, -3 * np.pi / 2, -3 * np.pi / 2, 3 * np.pi / 2, qubits[2], qubits[3])\n",
    "    circuit << CU(-3 * np.pi/2, -3 * np.pi, -3 * np.pi, -2 * np.pi, qubits[1], qubits[3])\n",
    "    circuit << BARRIER(qubits[1:3])\n",
    "    \n",
    "    # QFT_dagger\n",
    "    circuit << SWAP(qubits[1], qubits[2])\n",
    "    circuit << H(qubits[2])\n",
    "    circuit << S(qubits[2]).dagger().control(qubits[1])\n",
    "    circuit << H(qubits[1])\n",
    "    circuit << SWAP(qubits[1], qubits[2])\n",
    "\n",
    "    return circuit"
   ]
  },
  {
   "cell_type": "code",
   "execution_count": 24,
   "id": "84ae536d",
   "metadata": {},
   "outputs": [],
   "source": [
    "def rotation(r):\n",
    "    circuit = create_empty_circuit()\n",
    "    \n",
    "    circuit << RY(qubits[0], 2*np.pi/(2**r)).control(qubits[1])\n",
    "    circuit << RY(qubits[0], np.pi/(2**r)).control(qubits[2])\n",
    "    \n",
    "    return circuit"
   ]
  },
  {
   "cell_type": "code",
   "execution_count": 25,
   "id": "43b72335",
   "metadata": {},
   "outputs": [],
   "source": [
    "def uncompute(A):\n",
    "    circuit = create_empty_circuit()\n",
    "    \n",
    "    # QFT_dagger\n",
    "    circuit << SWAP(qubits[1], qubits[2])\n",
    "    circuit << H(qubits[1])\n",
    "    circuit << S(qubits[2]).control(qubits[1])\n",
    "    circuit << H(qubits[2])\n",
    "    circuit << SWAP(qubits[1], qubits[2])\n",
    "\n",
    "#     t0 = 2 * np.pi\n",
    "#     circuit << QOracle(qubits[3], expMat(-1j, A, t0 / 2)).control(qubits[1])\n",
    "#     circuit << QOracle(qubits[3], expMat(-1j, A, t0 / 4)).control(qubits[2])\n",
    "    circuit << CU(-3 * np.pi/2, -3 * np.pi, -3 * np.pi, -2 * np.pi, qubits[1], qubits[3])\n",
    "    circuit << CU(np.pi/4, -3*np.pi/2, -np.pi/2, -np.pi/2, qubits[2], qubits[3])\n",
    "    circuit << H(qubits[1]) << H(qubits[2])\n",
    "    \n",
    "    return circuit"
   ]
  },
  {
   "cell_type": "markdown",
   "id": "08711eb1",
   "metadata": {},
   "source": [
    "## - 1.3 full HHL algorithm "
   ]
  },
  {
   "cell_type": "code",
   "execution_count": 47,
   "id": "c6cff82b",
   "metadata": {},
   "outputs": [],
   "source": [
    "def HHL(A, b, r, flag=False):\n",
    "    prog = create_empty_qprog()\n",
    "    \n",
    "    # Step 0. check input\n",
    "    if not is_hermitian(A):\n",
    "        b = (Dag(A) @ b).round(4)\n",
    "        A = (Dag(A) @ A).round(4) # make A hermitian\n",
    "    \n",
    "    normed_b = (b / np.linalg.norm(b)).round(4)\n",
    "    \n",
    "    # Step 1. state preparation\n",
    "    prog << encode(normed_b)\n",
    "    \n",
    "    # Step 2. phase estimation\n",
    "    prog << phase_estimation(A)\n",
    "    \n",
    "    # Step 3. rotation\n",
    "    prog << rotation(r)\n",
    "    \n",
    "    # Step 4. uncompute\n",
    "    prog << uncompute(A)\n",
    "    \n",
    "    # Step 5. measure ancilla qubit\n",
    "    prog << Measure(qubits[0], cbits[0])\n",
    "    if flag:\n",
    "        results = [0, 0]\n",
    "        for i in range(10000):\n",
    "            result = prob_run_list(prog, qubits[0], -1)\n",
    "            results[0] += result[0]\n",
    "            results[1] += result[1]\n",
    "\n",
    "        results[0] /= 10000\n",
    "        results[1] /= 10000\n",
    "        \n",
    "        return results\n",
    "    \n",
    "    result = directly_run(prog)\n",
    "    \n",
    "    if not result['c0']:\n",
    "        return HHL(A, b, r)\n",
    "    \n",
    "    # Step 6. get results\n",
    "    prog << Measure(qubits[3], cbits[3])\n",
    "    \n",
    "    qstate = get_qstate()\n",
    "    normed_x = np.real(np.array([qstate[1], qstate[9]])) # 0001 1001\n",
    "        \n",
    "    # Step 7. recover x\n",
    "    N = len(normed_b)\n",
    "    ratio = 0.0\n",
    "    for i in range(N):\n",
    "        if not abs(normed_b[i]) < 1e-8:\n",
    "            ratio = normed_b[i][0] / np.sum([ normed_x[j] * A[i][j] for j in range(N) ])\n",
    "            break\n",
    "    \n",
    "    # normed_x = x / ||x|| => x = normed_x * ||x||\n",
    "    x_ = (normed_x * ratio)\n",
    "    distance = ed(x_, x.flatten())\n",
    "    \n",
    "    return distance, x_"
   ]
  },
  {
   "cell_type": "code",
   "execution_count": 75,
   "id": "a854b514",
   "metadata": {
    "scrolled": true
   },
   "outputs": [
    {
     "data": {
      "text/plain": [
       "(0.00047642467882998396, array([-0.24954802,  0.74984934]))"
      ]
     },
     "execution_count": 75,
     "metadata": {},
     "output_type": "execute_result"
    }
   ],
   "source": [
    "HHL(A, b, 5)"
   ]
  },
  {
   "cell_type": "code",
   "execution_count": 49,
   "id": "466e63d9",
   "metadata": {},
   "outputs": [
    {
     "data": {
      "text/plain": [
       "[0.9999000000000002, 0.00010000000000141353]"
      ]
     },
     "execution_count": 49,
     "metadata": {},
     "output_type": "execute_result"
    }
   ],
   "source": [
    "HHL(A, b, 8, True)"
   ]
  },
  {
   "cell_type": "code",
   "execution_count": 50,
   "id": "b132aaa0",
   "metadata": {},
   "outputs": [],
   "source": [
    "r = [1, 2, 3, 4, 5, 6, 7, 8]"
   ]
  },
  {
   "cell_type": "code",
   "execution_count": 53,
   "id": "b991546a",
   "metadata": {},
   "outputs": [],
   "source": [
    "p = [ HHL(A, b, i, True)[1] for i in r]"
   ]
  },
  {
   "cell_type": "code",
   "execution_count": 55,
   "id": "dd496a98",
   "metadata": {},
   "outputs": [],
   "source": [
    "distances = [ HHL(A, b, i)[0] for i in r ]"
   ]
  },
  {
   "cell_type": "code",
   "execution_count": 60,
   "id": "7eb61a57",
   "metadata": {},
   "outputs": [],
   "source": [
    "import matplotlib.pyplot as plt\n",
    "%matplotlib inline"
   ]
  },
  {
   "cell_type": "code",
   "execution_count": 74,
   "id": "bb9bf6a1",
   "metadata": {},
   "outputs": [
    {
     "data": {
      "image/png": "[encoded data removed]",
      "text/plain": [
       "<Figure size 1500x400 with 2 Axes>"
      ]
     },
     "metadata": {},
     "output_type": "display_data"
    }
   ],
   "source": [
    "plt.figure(figsize=(15, 4))\n",
    "plt.subplot(1,2,1)\n",
    "plt.scatter(r, p)\n",
    "plt.xlabel(\"r\", fontsize=15)\n",
    "plt.ylabel(\"Probability\", fontsize=15)\n",
    "\n",
    "plt.subplot(1,2,2)\n",
    "plt.scatter(r, distances, color=\"#FF6600\")\n",
    "plt.xlabel(\"r\", fontsize=15)\n",
    "plt.ylabel(\"Distance\", fontsize=15)\n",
    "\n",
    "plt.show()"
   ]
  },
  {
   "cell_type": "code",
   "execution_count": null,
   "id": "d4b32ab3",
   "metadata": {},
   "outputs": [],
   "source": []
  }
 ],
 "metadata": {
  "kernelspec": {
   "display_name": "Python 3 (ipykernel)",
   "language": "python",
   "name": "python3"
  },
  "language_info": {
   "codemirror_mode": {
    "name": "ipython",
    "version": 3
   },
   "file_extension": ".py",
   "mimetype": "text/x-python",
   "name": "python",
   "nbconvert_exporter": "python",
   "pygments_lexer": "ipython3",
   "version": "3.9.13"
  }
 },
 "nbformat": 4,
 "nbformat_minor": 5
}
