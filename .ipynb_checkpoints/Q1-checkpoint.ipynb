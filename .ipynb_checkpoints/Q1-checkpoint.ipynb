{
 "cells": [
  {
   "cell_type": "code",
   "execution_count": 1,
   "id": "144247e8",
   "metadata": {},
   "outputs": [],
   "source": [
    "from pyqpanda import *"
   ]
  },
  {
   "cell_type": "code",
   "execution_count": 2,
   "id": "d49e873b",
   "metadata": {},
   "outputs": [],
   "source": [
    "def draw(prog, filename=''):\n",
    "    dir_path = './images/'\n",
    "    if filename != '':\n",
    "        draw_qprog(prog, 'pic', filename=f'{dir_path}{filename}')"
   ]
  },
  {
   "cell_type": "markdown",
   "id": "1a5bd589",
   "metadata": {},
   "source": [
    "## Init Quantum Environment"
   ]
  },
  {
   "cell_type": "code",
   "execution_count": 3,
   "id": "f1b98021",
   "metadata": {},
   "outputs": [],
   "source": [
    "class InitQMachine:\n",
    "    def __init__(self, qubitsCount, cbitsCount, machineType = QMachineType.CPU):\n",
    "        self.machine = init_quantum_machine(machineType)\n",
    "        \n",
    "        self.qubits = self.machine.qAlloc_many(qubitsCount)\n",
    "        self.cbits = self.machine.cAlloc_many(cbitsCount)\n",
    "        \n",
    "        print(f'Init Quantum Machine with qubits:[{qubitsCount}] / cbits:[{cbitsCount}] Successfully')\n",
    "    \n",
    "    def __del__(self):\n",
    "        destroy_quantum_machine(self.machine)"
   ]
  },
  {
   "cell_type": "code",
   "execution_count": 4,
   "id": "9200c47e",
   "metadata": {},
   "outputs": [
    {
     "name": "stdout",
     "output_type": "stream",
     "text": [
      "Init Quantum Machine with qubits:[3] / cbits:[3] Successfully\n"
     ]
    }
   ],
   "source": [
    "ctx = InitQMachine(3, 3)\n",
    "\n",
    "machine = ctx.machine\n",
    "qubits = ctx.qubits\n",
    "cbits = ctx.cbits"
   ]
  },
  {
   "cell_type": "markdown",
   "id": "ae9082de",
   "metadata": {},
   "source": [
    "## 1. Generate Bell states"
   ]
  },
  {
   "cell_type": "code",
   "execution_count": 75,
   "id": "7f5bd557",
   "metadata": {},
   "outputs": [],
   "source": [
    "# https://quantumcomputinguk.org/tutorials/introduction-to-bell-states"
   ]
  },
  {
   "cell_type": "code",
   "execution_count": 77,
   "id": "79efc7d3",
   "metadata": {},
   "outputs": [],
   "source": [
    "def createEntangledCircuit(bits, qubits=qubits):\n",
    "    circuit = create_empty_circuit()\n",
    "    \n",
    "    # Init state\n",
    "    if bits[1] == '1':\n",
    "        circuit << X(qubits[1])\n",
    "    elif bits == '10':\n",
    "        circuit << X(qubits[0])\n",
    "        \n",
    "    # Entangle\n",
    "    circuit << H(qubits[0])\n",
    "    if bits == '11':\n",
    "        circuit << Z(qubits[1]) << Z(qubits[0])\n",
    "    circuit << CNOT(qubits[0], qubits[1])\n",
    "    directly_run(circuit)\n",
    "    \n",
    "    return get_qstate()"
   ]
  },
  {
   "cell_type": "code",
   "execution_count": 78,
   "id": "36f6f5bf",
   "metadata": {},
   "outputs": [],
   "source": [
    "bell_00 = createEntangledCircuit(\"00\")\n",
    "bell_01 = createEntangledCircuit(\"01\")\n",
    "bell_10 = createEntangledCircuit(\"10\")\n",
    "bell_11 = createEntangledCircuit(\"11\")"
   ]
  },
  {
   "cell_type": "markdown",
   "id": "4715cfc3",
   "metadata": {},
   "source": [
    "## - 1.1 Prove"
   ]
  },
  {
   "cell_type": "code",
   "execution_count": 65,
   "id": "5280cdde",
   "metadata": {},
   "outputs": [],
   "source": [
    "from functools import reduce\n",
    "\n",
    "Kron = lambda *matrices: reduce(np.kron, matrices)"
   ]
  },
  {
   "cell_type": "code",
   "execution_count": 79,
   "id": "351a5c9a",
   "metadata": {},
   "outputs": [],
   "source": [
    "import numpy as np\n",
    "\n",
    "state_0 = np.array([1, 0])\n",
    "state_1 = np.array([0, 1])"
   ]
  },
  {
   "cell_type": "code",
   "execution_count": 80,
   "id": "7cd86c75",
   "metadata": {},
   "outputs": [
    {
     "name": "stdout",
     "output_type": "stream",
     "text": [
      "test: bell_00,  True\n",
      "test: bell_01,  True\n",
      "test: bell_10,  True\n",
      "test: bell_11,  True\n"
     ]
    }
   ],
   "source": [
    "print(\"test: bell_00, \", np.allclose( \n",
    "    (Kron(state_0, state_0) + Kron(state_1, state_1)) / (2 ** 0.5),\n",
    "    bell_00\n",
    "))\n",
    "\n",
    "print(\"test: bell_01, \", np.allclose( \n",
    "    (Kron(state_0, state_1) + Kron(state_1, state_0)) / (2 ** 0.5),\n",
    "    bell_01\n",
    "))\n",
    "\n",
    "print(\"test: bell_10, \", np.allclose( \n",
    "    (Kron(state_0, state_0) - Kron(state_1, state_1)) / (2 ** 0.5),\n",
    "    bell_10\n",
    "))\n",
    "\n",
    "print(\"test: bell_11, \", np.allclose( \n",
    "    (Kron(state_0, state_1) - Kron(state_1, state_0)) / (2 ** 0.5),\n",
    "    bell_11\n",
    "))"
   ]
  },
  {
   "cell_type": "markdown",
   "id": "bd1e3990",
   "metadata": {},
   "source": [
    "# 2. Quantum teleportation"
   ]
  },
  {
   "cell_type": "code",
   "execution_count": 103,
   "id": "fff0924d",
   "metadata": {},
   "outputs": [],
   "source": [
    "def QT(angle, n_sample=10000):\n",
    "    prog = create_empty_qprog()\n",
    "    \n",
    "    # Step 0. init target state \n",
    "    prog << RY(qubits[2], angle)\n",
    "    \n",
    "    # State 1. creates an entangled pair of qubits\n",
    "    prog << H(qubits[0]) \\\n",
    "        << CNOT(qubits[0], qubits[1])\n",
    "    \n",
    "    # Step 2. perform Bell measurement\n",
    "    prog << CNOT(qubits[2], qubits[1]) << H(qubits[2])\n",
    "    ## two bits are sent to receiver using classical channel\n",
    "    prog << Measure(qubits[1], cbits[1]) \\\n",
    "        << Measure(qubits[2], cbits[2])\n",
    "    \n",
    "    # Step3. recover the teleportated state\n",
    "    branch_X = QProg() << X(qubits[0])\n",
    "    branch_Z = QProg() << Z(qubits[0])\n",
    "    prog << QIfProg(cbits[1] == 1, branch_X)\n",
    "    prog << QIfProg(cbits[2] == 1, branch_Z)\n",
    "    \n",
    "    # Step 4. measure and test teleportated state\n",
    "    prog << Measure(qubits[0], cbits[0])\n",
    "    \n",
    "    results = [0, 0]\n",
    "    for i in range(n_sample):\n",
    "        result = prob_run_list(prog, qubits[0], -1)\n",
    "        results[0] += result[0]\n",
    "        results[1] += result[1]\n",
    "        \n",
    "    results[0] /= n_sample\n",
    "    results[1] /= n_sample\n",
    "    \n",
    "    # [p0, p1]\n",
    "    return results"
   ]
  },
  {
   "cell_type": "code",
   "execution_count": 120,
   "id": "191a488c",
   "metadata": {},
   "outputs": [
    {
     "name": "stdout",
     "output_type": "stream",
     "text": [
      "np.pi/3:  [0.7469, 0.2531]\n",
      "np.pi/4:  [0.8534, 0.1466]\n",
      "np.pi/6:  [0.9335, 0.06650000000000007]\n",
      "np.pi/7:  [0.9501, 0.04990000000000046]\n"
     ]
    }
   ],
   "source": [
    "# test\n",
    "for angle in [3, 4, 6, 7]:\n",
    "    print(f\"np.pi/{angle}: \", QT(np.pi/angle))"
   ]
  },
  {
   "cell_type": "markdown",
   "id": "d05c64fc",
   "metadata": {},
   "source": [
    "## - 2.1 Prove"
   ]
  },
  {
   "cell_type": "code",
   "execution_count": 107,
   "id": "a59cf002",
   "metadata": {},
   "outputs": [],
   "source": [
    "def testRy(angle, n_sample=10000):\n",
    "    prog = create_empty_qprog()\n",
    "    \n",
    "    # init state\n",
    "    prog << RY(qubits[0], angle)\n",
    "    prog << Measure(qubits[0], cbits[0])\n",
    "    \n",
    "    results = dict({'0': 0, '1': 0})\n",
    "    for i in range(n_sample):\n",
    "        result = prob_run_dict(prog, qubits[0], -1)\n",
    "        results['0'] += result['0']\n",
    "        results['1'] += result['1']\n",
    "        \n",
    "    results['0'] /= n_sample\n",
    "    results['1'] /= n_sample\n",
    "    \n",
    "    return results"
   ]
  },
  {
   "cell_type": "code",
   "execution_count": 119,
   "id": "74a13bd3",
   "metadata": {},
   "outputs": [
    {
     "name": "stdout",
     "output_type": "stream",
     "text": [
      "np.pi/3:  {'0': 0.7467, '1': 0.2533}\n",
      "np.pi/4:  {'0': 0.8519, '1': 0.14809999999999998}\n",
      "np.pi/6:  {'0': 0.9353999999999998, '1': 0.0646}\n",
      "np.pi/7:  {'0': 0.9519, '1': 0.048100000000000004}\n"
     ]
    }
   ],
   "source": [
    "for angle in [3, 4, 6, 7]:\n",
    "    print(f\"np.pi/{angle}: \", testRy(np.pi/angle))"
   ]
  },
  {
   "cell_type": "code",
   "execution_count": null,
   "id": "56e702c8",
   "metadata": {},
   "outputs": [],
   "source": []
  }
 ],
 "metadata": {
  "kernelspec": {
   "display_name": "Python 3 (ipykernel)",
   "language": "python",
   "name": "python3"
  },
  "language_info": {
   "codemirror_mode": {
    "name": "ipython",
    "version": 3
   },
   "file_extension": ".py",
   "mimetype": "text/x-python",
   "name": "python",
   "nbconvert_exporter": "python",
   "pygments_lexer": "ipython3",
   "version": "3.8.13"
  }
 },
 "nbformat": 4,
 "nbformat_minor": 5
}
